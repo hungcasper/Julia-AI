{
 "cells": [
  {
   "cell_type": "markdown",
   "id": "3198a2ef",
   "metadata": {},
   "source": [
    "$\\large f(x)=tanh(x)=\\frac{\\epsilon^x-\\epsilon^{-x}}{\\epsilon^x+\\epsilon^{-x}}$"
   ]
  },
  {
   "cell_type": "code",
   "execution_count": null,
   "id": "2f875c13",
   "metadata": {},
   "outputs": [],
   "source": []
  }
 ],
 "metadata": {
  "kernelspec": {
   "display_name": "Julia 1.6.4",
   "language": "julia",
   "name": "julia-1.6"
  },
  "language_info": {
   "file_extension": ".jl",
   "mimetype": "application/julia",
   "name": "julia",
   "version": "1.6.4"
  }
 },
 "nbformat": 4,
 "nbformat_minor": 5
}
